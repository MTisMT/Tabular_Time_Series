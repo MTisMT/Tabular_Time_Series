{
 "cells": [
  {
   "cell_type": "markdown",
   "id": "a1e7419a",
   "metadata": {},
   "source": [
    "<div class=\"alert alert-block alert-success\">\n",
    "    <h1 align=\"center\">Spearman Rank Correlation Callback</h1>\n",
    "    <h2 align=\"center\">Keras custom callback</h2>\n",
    "    <h3 align=\"center\"> Tabular Time Series</h3>\n",
    "    <h5 align=\"center\">Github: (https://github.com/MTisMT)</h5>\n",
    "</div>"
   ]
  },
  {
   "cell_type": "markdown",
   "id": "a7f3f097",
   "metadata": {},
   "source": [
    "Spearman rank correlation is a popular metric for evaluating the prediction results of trend prediction in quantitative finance models. Spearman rank correlation is a non-differentiable function (sorting is not differentiable) so it can't be used as the loss function of the model. However there is some [models](https://arxiv.org/abs/1904.04272) that can learn approximations of such non-differentiable objective functions.\n",
    "\n",
    "The custom callback that coded here can monitor spearman rank correlation and early stopping the model when it's not imporoving on this metric after some epochs."
   ]
  },
  {
   "cell_type": "markdown",
   "id": "81c98775",
   "metadata": {},
   "source": [
    "# Import libraries"
   ]
  },
  {
   "cell_type": "code",
   "execution_count": 1,
   "id": "1346585c",
   "metadata": {},
   "outputs": [],
   "source": [
    "import numpy as np\n",
    "import pandas as pd\n",
    "from scipy.stats.mstats import spearmanr\n",
    " \n",
    "import tensorflow as tf\n",
    "import keras.backend as K\n",
    "from keras import optimizers\n",
    "from keras import regularizers\n",
    "from keras.models import Sequential\n",
    "from keras.models import Model\n",
    "from keras.callbacks import Callback\n",
    "from keras.layers.merge import concatenate\n",
    "from keras.utils.vis_utils import plot_model\n",
    "from keras import callbacks \n",
    "from keras.callbacks import EarlyStopping, ReduceLROnPlateau\n",
    "from keras.layers import Dense, Dropout, Input, BatchNormalization"
   ]
  },
  {
   "cell_type": "markdown",
   "id": "891ac2aa",
   "metadata": {},
   "source": [
    "# Define Custom Spearman Callback\n",
    "Can be used for single  or multiple outputs"
   ]
  },
  {
   "cell_type": "code",
   "execution_count": 2,
   "id": "7aa8065e",
   "metadata": {},
   "outputs": [],
   "source": [
    "class SpearmanRhoCallback(Callback):\n",
    "    def __init__(self, training_data, validation_data, patience, model_name):\n",
    "        self.x = training_data[0]\n",
    "        self.y = training_data[1]\n",
    "        self.x_val = validation_data[0]\n",
    "        self.y_val = validation_data[1]\n",
    "        \n",
    "        self.patience = patience\n",
    "        self.value = -1\n",
    "        self.bad_epochs = 0\n",
    "        self.model_name = model_name\n",
    "\n",
    "    def on_train_begin(self, logs={}):\n",
    "        return\n",
    "\n",
    "    def on_train_end(self, logs={}):\n",
    "        return\n",
    "\n",
    "    def on_epoch_begin(self, epoch, logs={}):\n",
    "        return\n",
    "\n",
    "    def on_epoch_end(self, epoch, logs={}):\n",
    "        y_pred_val = self.model.predict(self.x_val)\n",
    "        \n",
    "        if isinstance(self.y_val,np.ndarray):\n",
    "            rho_val = np.mean([spearmanr(self.y_val.reshape(-1,1)[:, ind],\n",
    "                                         y_pred_val.reshape(-1,1)[:, ind]).correlation for ind in range(y_pred_val.reshape(-1,1).shape[1])])\n",
    "#         + np.random.normal(0, 1e-7, y_pred_val.reshape(-1,1).shape[0])\n",
    "        else:\n",
    "            rho_val = np.mean([spearmanr(self.y_val.to_numpy().reshape(-1,1)[:, ind],\n",
    "                                         y_pred_val.reshape(-1,1)[:, ind]).correlation for ind in range(y_pred_val.reshape(-1,1).shape[1])])\n",
    "#         + np.random.normal(0, 1e-7, y_pred_val.reshape(-1,1).shape[0])\n",
    "        if rho_val >= self.value:\n",
    "            self.value = rho_val\n",
    "        else:\n",
    "            self.bad_epochs += 1\n",
    "        if self.bad_epochs >= self.patience:\n",
    "            print(\"Epoch %05d: early stopping Threshold\" % epoch)\n",
    "            self.model.stop_training = True\n",
    "            #self.model.save_weights(self.model_name)\n",
    "        print('\\rval_spearman-rho: %s' % (str(round(rho_val, 4))), end=100*' '+'\\n')\n",
    "        return rho_val\n",
    "\n",
    "    def on_batch_begin(self, batch, logs={}):\n",
    "        return\n",
    "\n",
    "    def on_batch_end(self, batch, logs={}):\n",
    "        return"
   ]
  },
  {
   "cell_type": "markdown",
   "id": "89801d8f",
   "metadata": {},
   "source": [
    "# The model \n",
    "Determine \"Spearman_patience\" to  early stop the model after specific number of epochs\n"
   ]
  },
  {
   "cell_type": "code",
   "execution_count": 3,
   "id": "b6142948",
   "metadata": {},
   "outputs": [],
   "source": [
    "def ANN_model(X,y,X_t,y_t,lr=0.005,bs=64, ep=10, actv='relu',\n",
    "                  min_lr=0.00005, f_lr=0.7, reg=0,h_layers=2,\n",
    "                  multitask=False, nodes = 512, drpout=0.2,\n",
    "                  Spearman_patience = 7):\n",
    "    score={}\n",
    "    input_sz=X.shape[1]\n",
    "    model = Sequential()\n",
    "    model.add(Input(shape=(input_sz,)))\n",
    "    model.add(Dropout(0.2))\n",
    "    model.add(Dense(nodes*2,activation=actv, kernel_regularizer=regularizers.l1_l2(l1=reg, l2=reg),\n",
    "                    bias_regularizer=regularizers.l2(reg)))\n",
    "    model.add(Dropout(drpout))\n",
    "    for h_layer in range(int(h_layers)+1):\n",
    "        model.add(Dense(nodes,activation=actv, kernel_regularizer=regularizers.l1_l2(l1=reg, l2=reg),\n",
    "                        bias_regularizer=regularizers.l2(reg)))\n",
    "        model.add(Dropout(drpout))\n",
    " \n",
    "    if multitask:\n",
    "        model.add(Dense(y.shape[1],activation='sigmoid'))\n",
    "    else: \n",
    "        model.add(Dense(1,activation='sigmoid'))\n",
    "\n",
    "\n",
    "\n",
    "    opt = tf.keras.optimizers.Adam(learning_rate=lr)\n",
    "    model.compile(optimizer=opt,loss='mean_squared_logarithmic_error')\n",
    "\n",
    "    spearmanr_callback = SpearmanRhoCallback(training_data=(X, y), validation_data=(X_t, y_t),\n",
    "                                       patience=Spearman_patience, model_name='best_model_batch.h5')\n",
    "    #ES = EarlyStopping(monitor='val_loss', restore_best_weights=True, patience=20)\n",
    "    #reduce_lr = ReduceLROnPlateau(monitor='val_loss', factor=f_lr,\n",
    "    #                          patience=3,verbose=1, min_lr=min_lr)\n",
    "    print(\"Epoch LR: \",K.eval(model.optimizer.lr))\n",
    "    model.hist = model.fit(X,y,epochs=ep, callbacks=[spearmanr_callback],\n",
    "              validation_data=(X_t,y_t),shuffle=True, batch_size=bs,verbose=1)\n",
    "\n",
    "\n",
    "\n",
    "    return model"
   ]
  },
  {
   "cell_type": "code",
   "execution_count": null,
   "id": "c085c7b2",
   "metadata": {},
   "outputs": [],
   "source": []
  }
 ],
 "metadata": {
  "kernelspec": {
   "display_name": "Python 3",
   "language": "python",
   "name": "python3"
  },
  "language_info": {
   "codemirror_mode": {
    "name": "ipython",
    "version": 3
   },
   "file_extension": ".py",
   "mimetype": "text/x-python",
   "name": "python",
   "nbconvert_exporter": "python",
   "pygments_lexer": "ipython3",
   "version": "3.7.3"
  }
 },
 "nbformat": 4,
 "nbformat_minor": 5
}
