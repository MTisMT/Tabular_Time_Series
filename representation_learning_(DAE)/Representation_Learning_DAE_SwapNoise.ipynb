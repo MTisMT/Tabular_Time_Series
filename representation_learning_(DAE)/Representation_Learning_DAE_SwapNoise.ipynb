{
 "cells": [
  {
   "cell_type": "markdown",
   "id": "26a7e8db",
   "metadata": {},
   "source": [
    "<div class=\"alert alert-block alert-success\">\n",
    "    <h1 align=\"center\">Representation Learning using DAE and Swap Noise</h1>\n",
    "    <h3 align=\"center\"> Tabular Time Series</h3>\n",
    "    <h5 align=\"center\">Github: (https://github.com/MTisMT)</h5>\n",
    "</div>"
   ]
  },
  {
   "cell_type": "markdown",
   "id": "494b6738",
   "metadata": {},
   "source": [
    "Appling an unsupervised denoising auto encoder to independent variables \n",
    "for reaching a better representation of the features. both train & test data should be used for this part;\n",
    "this technique is based on Porto Seguro’s Safe Driver Prediction kaggle competition\n",
    " [Kaggle winning solution](https://www.kaggle.com/c/porto-seguro-safe-driver-prediction/discussion/44629)"
   ]
  },
  {
   "cell_type": "markdown",
   "id": "aa42fa60",
   "metadata": {},
   "source": [
    "## Import libaries"
   ]
  },
  {
   "cell_type": "code",
   "execution_count": null,
   "id": "330cf546",
   "metadata": {},
   "outputs": [],
   "source": [
    "import pandas as pd\n",
    "import numpy as np\n",
    "import tensorflow as tf\n",
    "from keras import optimizers\n",
    "from keras import regularizers\n",
    "from keras.models import Sequential\n",
    "from keras.callbacks import EarlyStopping, ReduceLROnPlateau\n",
    "from keras.layers import Dense, Dropout, Input, BatchNormalization, LSTM"
   ]
  },
  {
   "cell_type": "markdown",
   "id": "cdafcd32",
   "metadata": {},
   "source": [
    "## Adding swap noise to tabular data"
   ]
  },
  {
   "cell_type": "code",
   "execution_count": null,
   "id": "720ae028",
   "metadata": {},
   "outputs": [],
   "source": [
    "def add_swap_noise(data,perc=0.15,pandas_df=True):\n",
    "    row=data.shape[0]\n",
    "    col=data.shape[1]\n",
    "    per=perc\n",
    "    num=int(col*per)\n",
    "    data_noisy=data.copy()\n",
    "    rnd_row=np.random.permutation(row)\n",
    "    for i in range(data.shape[0]):\n",
    "        temp=np.random.permutation(col)\n",
    "        for j in range(num):\n",
    "            if pandas_df:\n",
    "                data_noisy.iloc[i,int(temp[j])] = data.iloc[rnd_row[i],int(temp[j])]\n",
    "            else:\n",
    "                data_noisy[i,int(temp[j])] = data[rnd_row[i],int(temp[j])]\n",
    "    return data_noisy"
   ]
  },
  {
   "cell_type": "markdown",
   "id": "fcd105db",
   "metadata": {},
   "source": [
    "## Denoising Auto-Encoder (DAE)"
   ]
  },
  {
   "cell_type": "code",
   "execution_count": 5,
   "id": "86719b1c",
   "metadata": {},
   "outputs": [],
   "source": [
    "# Input of NN: X_noisy\n",
    "# Output of NN: X\n",
    "def AutoEn(X_noisy, X, val_size=0.8, compress_ratio=2, ep=100, lr=1e-5,bs=32,min_lr=1e-7,f_lr=0.2):\n",
    "    tr_size =int((1-val_size) * X.shape[0])\n",
    "    input_sz = X.shape[1]\n",
    "    model = Sequential()\n",
    "    model.add(Input(shape=(input_sz,)))\n",
    "    model.add(Dense(1000))\n",
    "    model.add(Dense(input_sz//compress_ratio))\n",
    "    model.add(Dense(1000,activation='tanh'))\n",
    "    #model.add(Dropout(0.2))\n",
    "    model.add(Dense(1000,activation='relu'))\n",
    "    #model.add(Dropout(0.2))\n",
    "    model.add(Dense(input_sz,activation='sigmoid'))\n",
    "    opt = optimizers.Adam(learning_rate=lr)\n",
    "    #opt = optimizers.SGD(learning_rate=lr, momentum=0.9)\n",
    "    model.compile(optimizer=opt,loss='mean_squared_error')\n",
    "    reduce_lr = ReduceLROnPlateau(monitor='val_loss', factor=f_lr,\n",
    "                              patience=10, min_lr=min_lr)\n",
    "    ES = EarlyStopping(monitor='loss', restore_best_weights=True, patience=10)\n",
    "    model.hist = model.fit(X_noisy[:tr_size],X[:tr_size],epochs=ep, callbacks=[ES,reduce_lr],\n",
    "              validation_data=(X_noisy[tr_size:],X[tr_size:]),shuffle=False, batch_size=bs,verbose=1)\n",
    "    return model"
   ]
  },
  {
   "cell_type": "markdown",
   "id": "60ddf769",
   "metadata": {},
   "source": [
    "## Representation Learning Features\n",
    "Using Output of DAE"
   ]
  },
  {
   "cell_type": "code",
   "execution_count": null,
   "id": "53072b31",
   "metadata": {},
   "outputs": [],
   "source": [
    "def DAE_rep(data, DAE_model):\n",
    "    data_noisy = add_swap_noise(data,perc=0.15)\n",
    "    DAE = DAE_model(data_noisy, data, val_size=0.2 ,comp_r=1.5, ep=100, lr=5e-3, bs=50, min_lr=1e-8, f_lr=0.25)\n",
    "    rep_data = DAE.predict(data_noisy)\n",
    "    return rep_data"
   ]
  },
  {
   "cell_type": "markdown",
   "id": "5a362fb7",
   "metadata": {},
   "source": [
    "## Representation Learning Features\n",
    "Using values of the activations on all hidden layers"
   ]
  },
  {
   "cell_type": "code",
   "execution_count": 6,
   "id": "47dd484b",
   "metadata": {},
   "outputs": [],
   "source": [
    "# To be written"
   ]
  }
 ],
 "metadata": {
  "kernelspec": {
   "display_name": "Python 3",
   "language": "python",
   "name": "python3"
  },
  "language_info": {
   "codemirror_mode": {
    "name": "ipython",
    "version": 3
   },
   "file_extension": ".py",
   "mimetype": "text/x-python",
   "name": "python",
   "nbconvert_exporter": "python",
   "pygments_lexer": "ipython3",
   "version": "3.7.3"
  }
 },
 "nbformat": 4,
 "nbformat_minor": 5
}
